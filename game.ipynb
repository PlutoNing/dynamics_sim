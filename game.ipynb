{
 "cells": [
  {
   "cell_type": "code",
   "execution_count": 1,
   "metadata": {},
   "outputs": [],
   "source": [
    "import numpy as np\n"
   ]
  },
  {
   "cell_type": "code",
   "execution_count": 2,
   "metadata": {},
   "outputs": [],
   "source": [
    "# 初始化参数\n",
    "num_servers = 10  # 服务器数量\n",
    "num_contents = 20  # 内容数量\n",
    "R = np.random.rand(num_servers)  # 服务器稳定性评分\n",
    "I = np.random.rand(num_contents)  # 内容重要性评分\n",
    "connections = [np.random.choice(num_servers, 3, replace=False) for _ in range(num_servers)]  # 每个服务器的连接\n",
    "\n",
    "# 初始化策略概率\n",
    "P = np.random.rand(num_servers, num_contents)  # 每个服务器缓存内容的概率"
   ]
  },
  {
   "cell_type": "code",
   "execution_count": 3,
   "metadata": {},
   "outputs": [],
   "source": [
    "max_iter = 100\n",
    "tolerance = 1e-3"
   ]
  },
  {
   "cell_type": "code",
   "execution_count": 4,
   "metadata": {},
   "outputs": [],
   "source": [
    "def global_objective(P, R, I):\n",
    "    G = 0\n",
    "    for i in range(num_servers):\n",
    "        for k in range(num_contents):\n",
    "            G += P[i, k] * I[k] * R[i]\n",
    "    return G"
   ]
  },
  {
   "cell_type": "code",
   "execution_count": 5,
   "metadata": {},
   "outputs": [],
   "source": [
    "# 复制动态方程更新策略\n",
    "def update_strategy(P, R, I, connections):\n",
    "    for i in range(num_servers):\n",
    "        for k in range(num_contents):\n",
    "            neighbors = connections[i]\n",
    "            cache_benefit = I[k] * R[i]  # 缓存带来的收益\n",
    "            offload_benefit = np.mean([P[j, k] * I[k] * R[j] for j in neighbors])  # 转交邻居的收益\n",
    "            avg_benefit = P[i, k] * cache_benefit + (1 - P[i, k]) * offload_benefit\n",
    "            P[i, k] += P[i, k] * (cache_benefit - avg_benefit)\n",
    "    return np.clip(P, 0, 1)  # 限制策略概率在 [0, 1]"
   ]
  },
  {
   "cell_type": "code",
   "execution_count": 12,
   "metadata": {},
   "outputs": [
    {
     "name": "stdout",
     "output_type": "stream",
     "text": [
      "Final global objective: 50.08014054435253\n"
     ]
    }
   ],
   "source": [
    "for iter in range(max_iter):\n",
    "    prev_G = global_objective(P, R, I)\n",
    "    P = update_strategy(P, R, I, connections)\n",
    "    curr_G = global_objective(P, R, I)\n",
    "    if abs(curr_G - prev_G) < tolerance:\n",
    "        break\n",
    "\n",
    "print(\"Final global objective:\", curr_G)"
   ]
  }
 ],
 "metadata": {
  "kernelspec": {
   "display_name": "Python 3",
   "language": "python",
   "name": "python3"
  },
  "language_info": {
   "codemirror_mode": {
    "name": "ipython",
    "version": 3
   },
   "file_extension": ".py",
   "mimetype": "text/x-python",
   "name": "python",
   "nbconvert_exporter": "python",
   "pygments_lexer": "ipython3",
   "version": "3.12.0"
  }
 },
 "nbformat": 4,
 "nbformat_minor": 2
}
